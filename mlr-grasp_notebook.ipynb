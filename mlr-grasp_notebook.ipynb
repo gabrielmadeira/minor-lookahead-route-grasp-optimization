{
 "cells": [
  {
   "cell_type": "markdown",
   "id": "0a750275",
   "metadata": {},
   "source": [
    "## Instance Struture"
   ]
  },
  {
   "cell_type": "code",
   "execution_count": 1,
   "id": "ef88430c",
   "metadata": {},
   "outputs": [],
   "source": [
    "mutable struct Instance\n",
    "    n :: Int64\n",
    "    D\n",
    "    l\n",
    "    function Instance(s)\n",
    "        D = zeros(1,1)\n",
    "        nNodes = 0\n",
    "        l = 0\n",
    "        open(s) do f\n",
    "            line = 1\n",
    "            lineContent = readline(f)\n",
    "            lineSplited = split(lineContent, \" \")\n",
    "            nNodes = parse(Int64, lineSplited[1])\n",
    "            l = parse(Int64, lineSplited[2])\n",
    "            D = zeros(nNodes,nNodes)\n",
    "            while ! eof(f)\n",
    "                lineContent = readline(f)\n",
    "                lineSplited = split(lineContent, \" \")\n",
    "                for col = 1:nNodes\n",
    "                    D[line,col] = parse(Float64, lineSplited[col])\n",
    "                end\n",
    "                \n",
    "                line += 1\n",
    "            end\n",
    "        end\n",
    "        new(nNodes,D,l)\n",
    "    end\n",
    "end"
   ]
  },
  {
   "cell_type": "markdown",
   "id": "591074d9",
   "metadata": {},
   "source": [
    "## Solution Structure\n"
   ]
  },
  {
   "cell_type": "code",
   "execution_count": 2,
   "id": "652a9346",
   "metadata": {},
   "outputs": [],
   "source": [
    "mutable struct Solution\n",
    "    π :: Array{Int64,1} ## solução: uma permutação de cidades\n",
    "    v :: Float64        ## valor da solução: distância total\n",
    "    Solution(s::Solution) = new(copy(s.π),s.v)\n",
    "    Solution(π,v) = new(copy(π),v)\n",
    "end\n",
    "Base.copy(s::Solution) = Solution(s)"
   ]
  },
  {
   "cell_type": "markdown",
   "id": "fef7e7b0",
   "metadata": {},
   "source": [
    " ## Nearest Neighbor"
   ]
  },
  {
   "cell_type": "code",
   "execution_count": 3,
   "id": "ee47ac83",
   "metadata": {},
   "outputs": [
    {
     "data": {
      "text/plain": [
       "nearestNeighbor (generic function with 1 method)"
      ]
     },
     "execution_count": 3,
     "metadata": {},
     "output_type": "execute_result"
    }
   ],
   "source": [
    "function nearestNeighbor(I::Instance)\n",
    "    s = Solution([1],0.0)\n",
    "    free=trues(I.n)\n",
    "    free[1]=false\n",
    "    for k=2:I.n\n",
    "      f=findall(free)\n",
    "      j=f[findmin(I.D[s.π[end],f])[2]]\n",
    "    #       s.v += I.D[s.π[end],j]\n",
    "      push!(s.π,j)\n",
    "      free[j]=false\n",
    "    end\n",
    "    for lookahead=1:I.l\n",
    "        for i=1:I.n\n",
    "            s.v += I.D[s.π[i],s.π[((i+lookahead-1)%(I.n))+1]]\n",
    "        end\n",
    "    end\n",
    "#     push!(s.π,1)\n",
    "    s\n",
    "end"
   ]
  },
  {
   "cell_type": "markdown",
   "id": "58f97a64",
   "metadata": {},
   "source": [
    "## Random"
   ]
  },
  {
   "cell_type": "code",
   "execution_count": 4,
   "id": "a597c459",
   "metadata": {},
   "outputs": [
    {
     "data": {
      "text/plain": [
       "random (generic function with 1 method)"
      ]
     },
     "execution_count": 4,
     "metadata": {},
     "output_type": "execute_result"
    }
   ],
   "source": [
    "function random(I::Instance,k)\n",
    "    s = Solution([1],0.0)\n",
    "    free=trues(I.n)\n",
    "    free[1]=false\n",
    "    for i=2:I.n\n",
    "         f=findall(free)\n",
    "         ncand=min(k,I.n-i+1)\n",
    "         j=f[sortperm(I.D[s.π[end],f])[rand(1:ncand)]]\n",
    "#          s.v += I.D[s.π[end],j]\n",
    "         push!(s.π,j)\n",
    "         free[j]=false\n",
    "    end\n",
    "    for lookahead=1:I.l\n",
    "        for i=1:I.n\n",
    "#             println(\"$(s.π[i]) - $(s.π[((i+lookahead-1)%(I.n))+1])\")\n",
    "#             println(\"$(I.D[i,((i+lookahead-1)%(I.n))+1])\")\n",
    "            s.v += I.D[s.π[i],s.π[((i+lookahead-1)%(I.n))+1]]\n",
    "        end\n",
    "    end\n",
    "#     push!(s.π,1)\n",
    "    s\n",
    "end"
   ]
  },
  {
   "cell_type": "markdown",
   "id": "3a4ea50f",
   "metadata": {},
   "source": [
    "## Local Search with Adjacent Cities Swap"
   ]
  },
  {
   "cell_type": "code",
   "execution_count": 5,
   "id": "c1e3d371",
   "metadata": {},
   "outputs": [
    {
     "data": {
      "text/plain": [
       "localSearchAdjacentCitiesSwap (generic function with 1 method)"
      ]
     },
     "execution_count": 5,
     "metadata": {},
     "output_type": "execute_result"
    }
   ],
   "source": [
    "function localSearchAdjacentCitiesSwap(I::Instance, s₀::Solution)\n",
    "    s = copy(s₀)\n",
    "    i=1\n",
    "    v=0.0\n",
    "    while i<I.n\n",
    "        i=2\n",
    "        while i<I.n\n",
    "            \n",
    "            \n",
    "#             v=s.v-I.D[s.π[a],s.π[a+1]]-I.D[s.π[b],s.π[b+1]]+I.D[s.π[a],s.π[b]]+I.D[s.π[a+1],s.π[b+1]]            \n",
    "#             v=s.v-I.D[s.π[i-1],s.π[i]]-I.D[s.π[i+1],s.π[i+2]]+I.D[s.π[i-1],s.π[i+1]]+I.D[s.π[i],s.π[i+2]]\n",
    "            newπ = s.π \n",
    "            aux = newπ[i] #swap\n",
    "            newπ[i] = newπ[i+1]\n",
    "            newπ[i+1] = aux\n",
    "\n",
    "            v = 0\n",
    "            for lookahead=1:I.l\n",
    "                for i=1:I.n\n",
    "                    v += I.D[newπ[i],newπ[((i+lookahead-1)%(I.n))+1]]\n",
    "                end\n",
    "            end\n",
    "            \n",
    "            \n",
    "            \n",
    "            v<s.v && break ## first improvement\n",
    "            i += 1\n",
    "        end\n",
    "        if i<I.n\n",
    "            s.π[i],s.π[i+1] = s.π[i+1],s.π[i]\n",
    "            s.v = v\n",
    "        end\n",
    "    end\n",
    "    s\n",
    "end"
   ]
  },
  {
   "cell_type": "markdown",
   "id": "66308b0e",
   "metadata": {},
   "source": [
    "## Local Search with 2-exchange"
   ]
  },
  {
   "cell_type": "code",
   "execution_count": 6,
   "id": "a3c5fe04",
   "metadata": {},
   "outputs": [
    {
     "data": {
      "text/plain": [
       "localSearch2Exchange (generic function with 1 method)"
      ]
     },
     "execution_count": 6,
     "metadata": {},
     "output_type": "execute_result"
    }
   ],
   "source": [
    "function localSearch2Exchange(I::Instance,s₀::Solution)\n",
    "    s=copy(s₀)\n",
    "    move=(1,1)\n",
    "    v=0.0\n",
    "    while move!=(0,0)\n",
    "        move=(0,0)\n",
    "        for a=1:I.n, b=(a+2):I.n\n",
    "            a==1 && b==I.n && continue\n",
    "            \n",
    "            newπ = s.π \n",
    "            aux = newπ[a+1] #swap\n",
    "            newπ[a+1] = newπ[b]\n",
    "            newπ[b] = aux\n",
    "\n",
    "            v = 0\n",
    "            for lookahead=1:I.l\n",
    "                for i=1:I.n\n",
    "                    v += I.D[newπ[i],newπ[((i+lookahead-1)%(I.n))+1]]\n",
    "                end\n",
    "            end\n",
    "            \n",
    "#             v=s.v-I.D[s.π[a],s.π[a+1]]-I.D[s.π[b],s.π[b+1]]+I.D[s.π[a],s.π[b]]+I.D[s.π[a+1],s.π[b+1]]\n",
    "        \n",
    "            if v<s.v\n",
    "                move=(a,b)\n",
    "                break ## first improvement\n",
    "            end\n",
    "        end\n",
    "        if move!=(0,0)\n",
    "            ## reverse segment\n",
    "            move=(move[1]+1,move[2])\n",
    "            while move[1]<move[2]\n",
    "                s.π[move[1]],s.π[move[2]] = s.π[move[2]],s.π[move[1]]\n",
    "                move=(move[1]+1,move[2]-1)\n",
    "            end\n",
    "            s.v=v\n",
    "        end\n",
    "    end\n",
    "    s\n",
    "end"
   ]
  },
  {
   "cell_type": "code",
   "execution_count": null,
   "id": "064da1e2",
   "metadata": {},
   "outputs": [
    {
     "name": "stdout",
     "output_type": "stream",
     "text": [
      "Vizinho mais próximo: 3.0128831e7.\n",
      "Iteração 1: 3.0128831e7\n",
      "Iteração 2: 2.6645558e7\n",
      "Iteração 3: 2.6645558e7\n",
      "Iteração 4: 2.6645558e7\n",
      "Iteração 5: 2.6645558e7\n",
      "Iteração 6: 2.5204235e7\n",
      "Iteração 7: 2.5204235e7\n",
      "Iteração 8: 2.4974404e7\n",
      "Iteração 9: 2.4974404e7\n",
      "Iteração 10: 2.4974404e7"
     ]
    }
   ],
   "source": [
    "I = Instance(\"instances/rml10.txt\")\n",
    "b = nearestNeighbor(I)\n",
    "println(\"Vizinho mais próximo: $(b.v).\")\n",
    "\n",
    "for i = 1:100\n",
    "    println(\"Iteração $i: $(b.v)\")\n",
    "    s = random(I,2)\n",
    "    s = localSearchAdjacentCitiesSwap(I,s)\n",
    "    if s.v < b.v\n",
    "        b = copy(s)\n",
    "    end\n",
    "end\n",
    "println(\"Best solution $(b.v).\")"
   ]
  }
 ],
 "metadata": {
  "kernelspec": {
   "display_name": "Julia 1.8.0",
   "language": "julia",
   "name": "julia-1.8"
  },
  "language_info": {
   "file_extension": ".jl",
   "mimetype": "application/julia",
   "name": "julia",
   "version": "1.8.0"
  }
 },
 "nbformat": 4,
 "nbformat_minor": 5
}
