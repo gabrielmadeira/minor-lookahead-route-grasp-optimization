{
 "cells": [
  {
   "cell_type": "markdown",
   "id": "0a750275",
   "metadata": {},
   "source": [
    "## Instance Struture"
   ]
  },
  {
   "cell_type": "code",
   "execution_count": 2,
   "id": "ef88430c",
   "metadata": {},
   "outputs": [],
   "source": [
    "mutable struct Instance\n",
    "    n :: Int64\n",
    "    D\n",
    "    l\n",
    "    avg :: Float64\n",
    "    function Instance(s)\n",
    "        D = zeros(1,1)\n",
    "        nNodes = 0\n",
    "        l = 0\n",
    "        avg = 0\n",
    "        if s != \"STDIN\"\n",
    "            open(s) do f\n",
    "                line = 1\n",
    "                lineContent = readline(f)\n",
    "                lineSplited = split(lineContent, \" \")\n",
    "                nNodes = parse(Int64, lineSplited[1])\n",
    "                l = parse(Int64, lineSplited[2])\n",
    "                D = zeros(nNodes,nNodes)\n",
    "                avgRatio = 1/((nNodes^2)-nNodes)\n",
    "\n",
    "                while ! eof(f)\n",
    "                    lineContent = readline(f)\n",
    "                    lineSplited = split(lineContent, \" \")\n",
    "                    for col = 1:nNodes\n",
    "                        value = parse(Float64, lineSplited[col])\n",
    "                        D[line,col] = value\n",
    "                        avg += value*avgRatio\n",
    "                    end\n",
    "\n",
    "                    line += 1\n",
    "                end\n",
    "            end\n",
    "        else\n",
    "            line = 1\n",
    "            lineContent = readline(\"STDIN\")\n",
    "            lineSplited = split(lineContent, \" \")\n",
    "            nNodes = parse(Int64, lineSplited[1])\n",
    "            l = parse(Int64, lineSplited[2])\n",
    "            D = zeros(nNodes,nNodes)\n",
    "            avgRatio = 1/((nNodes^2)-nNodes)\n",
    "\n",
    "            while ! eof(f)\n",
    "                lineContent = readline(f)\n",
    "                lineSplited = split(lineContent, \" \")\n",
    "                for col = 1:nNodes\n",
    "                    value = parse(Float64, lineSplited[col])\n",
    "                    D[line,col] = value\n",
    "                    avg += value*avgRatio\n",
    "                end\n",
    "\n",
    "                line += 1\n",
    "            end\n",
    "        end\n",
    "        new(nNodes,D,l,avg)\n",
    "    end\n",
    "end"
   ]
  },
  {
   "cell_type": "markdown",
   "id": "591074d9",
   "metadata": {},
   "source": [
    "## Solution Structure\n"
   ]
  },
  {
   "cell_type": "code",
   "execution_count": 2,
   "id": "652a9346",
   "metadata": {},
   "outputs": [],
   "source": [
    "mutable struct Solution\n",
    "    π :: Array{Int64,1} ## solução: uma permutação de cidades\n",
    "    v :: Float64        ## valor da solução: distância total\n",
    "    Solution(s::Solution) = new(copy(s.π),s.v)\n",
    "    Solution(π,v) = new(copy(π),v)\n",
    "end\n",
    "Base.copy(s::Solution) = Solution(s)"
   ]
  },
  {
   "cell_type": "markdown",
   "id": "fef7e7b0",
   "metadata": {},
   "source": [
    " ## Nearest Neighbor"
   ]
  },
  {
   "cell_type": "code",
   "execution_count": 3,
   "id": "ee47ac83",
   "metadata": {},
   "outputs": [
    {
     "data": {
      "text/plain": [
       "nearestNeighbor (generic function with 1 method)"
      ]
     },
     "execution_count": 3,
     "metadata": {},
     "output_type": "execute_result"
    }
   ],
   "source": [
    "function nearestNeighbor(I::Instance)\n",
    "    s = Solution([1],0.0)\n",
    "    free=trues(I.n)\n",
    "    free[1]=false\n",
    "    for k=2:I.n\n",
    "      f=findall(free)\n",
    "      j=f[findmin(I.D[s.π[end],f])[2]]\n",
    "      push!(s.π,j)\n",
    "      free[j]=false\n",
    "    end\n",
    "    for lookahead=1:I.l\n",
    "        for i=1:I.n\n",
    "            s.v += I.D[s.π[i],s.π[((i+lookahead-1)%(I.n))+1]]\n",
    "        end\n",
    "    end\n",
    "    s\n",
    "end"
   ]
  },
  {
   "cell_type": "markdown",
   "id": "58f97a64",
   "metadata": {},
   "source": [
    "## Random Nearest Neighbor"
   ]
  },
  {
   "cell_type": "code",
   "execution_count": 4,
   "id": "a597c459",
   "metadata": {},
   "outputs": [
    {
     "data": {
      "text/plain": [
       "randomNearestNeighbor (generic function with 1 method)"
      ]
     },
     "execution_count": 4,
     "metadata": {},
     "output_type": "execute_result"
    }
   ],
   "source": [
    "function randomNearestNeighbor(I::Instance,k)\n",
    "    s = Solution([1],0.0)\n",
    "    free=trues(I.n)\n",
    "    free[1]=false\n",
    "    for i=2:I.n\n",
    "        f=findall(free)\n",
    "        ncand=min(k,I.n-i+1)\n",
    "        j=f[sortperm(I.D[s.π[end],f])[rand(1:ncand)]]\n",
    "        push!(s.π,j)\n",
    "        free[j]=false\n",
    "    end\n",
    "    for lookahead=1:I.l\n",
    "        for i=1:I.n\n",
    "            s.v += I.D[s.π[i],s.π[((i+lookahead-1)%(I.n))+1]]\n",
    "        end\n",
    "    end\n",
    "    s\n",
    "end"
   ]
  },
  {
   "cell_type": "markdown",
   "id": "3a4ea50f",
   "metadata": {},
   "source": [
    "## Local Search with Adjacent Cities Swap"
   ]
  },
  {
   "cell_type": "code",
   "execution_count": 5,
   "id": "c1e3d371",
   "metadata": {},
   "outputs": [
    {
     "data": {
      "text/plain": [
       "localSearchAdjacentCitiesSwap (generic function with 1 method)"
      ]
     },
     "execution_count": 5,
     "metadata": {},
     "output_type": "execute_result"
    }
   ],
   "source": [
    "function calcIndex(index, n)\n",
    "    result = 0\n",
    "    if index <= 0\n",
    "        result = n-(abs(index)%n)\n",
    "    else\n",
    "        result = (((index)-1)%(n))+1\n",
    "    end\n",
    "    result\n",
    "end\n",
    "\n",
    "function localSearchAdjacentCitiesSwap(I::Instance, s₀::Solution)\n",
    "    s = copy(s₀)\n",
    "    i=1\n",
    "    v=0.0\n",
    "    while i<I.n\n",
    "        i=2\n",
    "        while i<I.n\n",
    "            \n",
    "            \n",
    "            v = s.v\n",
    "#             println(i)\n",
    "#             println(s.π)\n",
    "            for l1=1:I.l+2\n",
    "                index1 = calcIndex((i+1)-l1+1, I.n)\n",
    "                for l2=1:I.l\n",
    "                    index2 = calcIndex(index1+l2, I.n)\n",
    "#                     println(\"$(index1) - $(index2)\")\n",
    "                    v -= I.D[s.π[index1],s.π[index2]]\n",
    "                end\n",
    "            end\n",
    "            \n",
    "            \n",
    "            s.π[i],s.π[i+1] = s.π[i+1],s.π[i] # swap\n",
    "            \n",
    "#             println(s.π)\n",
    "            for l1=1:I.l+2\n",
    "                index1 = calcIndex((i+1)-l1+1, I.n)\n",
    "                for l2=1:I.l\n",
    "                    index2 = calcIndex(index1+l2, I.n)\n",
    "                    v += I.D[s.π[index1],s.π[index2]]\n",
    "                end\n",
    "            end\n",
    "            \n",
    "#             v=s.v-I.D[s.π[i-1],s.π[i]]-I.D[s.π[i+1],s.π[i+2]]+I.D[s.π[i-1],s.π[i+1]]+I.D[s.π[i],s.π[i+2]]\n",
    "#             -I.D[s.π[i-1],s.π[i]]\n",
    "#             -I.D[s.π[i+1],s.π[i+2]]\n",
    "#             +I.D[s.π[i-1],s.π[i+1]]\n",
    "#             +I.D[s.π[i],s.π[i+2]]\n",
    "            \n",
    "            \n",
    "#             vok = 0\n",
    "#             for lookahead=1:I.l # calc new value with pi modified\n",
    "#                 for i=1:I.n\n",
    "#                     vok += I.D[s.π[i],s.π[((i+lookahead-1)%(I.n))+1]]\n",
    "#                 end\n",
    "#             end\n",
    "#             println(\"v: $(v) | vok: $(vok) | s.v: $(s.v)\")\n",
    "            \n",
    "            s.π[i],s.π[i+1] = s.π[i+1],s.π[i] # swap again\n",
    "            \n",
    "            v<s.v && break ## first improvement\n",
    "            i += 1\n",
    "        end\n",
    "        if i<I.n\n",
    "#             println(\"Old v: $(s.v) New v: $(v)\")\n",
    "            s.π[i],s.π[i+1] = s.π[i+1],s.π[i]\n",
    "            s.v = v\n",
    "        end\n",
    "    end\n",
    "    s\n",
    "end"
   ]
  },
  {
   "cell_type": "code",
   "execution_count": null,
   "id": "064da1e2",
   "metadata": {},
   "outputs": [
    {
     "name": "stdout",
     "output_type": "stream",
     "text": [
      "Nearest Neighbor: 3.0128831e7.\n",
      "Local Search Adjacent Cities Swap"
     ]
    }
   ],
   "source": [
    "I = Instance(\"instances/rml10.txt\")\n",
    "b = nearestNeighbor(I)\n",
    "println(\"Nearest Neighbor: $(b.v).\")\n",
    "\n",
    "nIterations = 100 # DEFINIR ITERAÇÕES!\n",
    "k = 2 # DEFINIR K!\n",
    "\n",
    "println(\"Local Search Adjacent Cities Swap\")\n",
    "for i = 1:nIterations\n",
    "    s = randomNearestNeighbor(I,k) \n",
    "    s = localSearchAdjacentCitiesSwap(I,s)\n",
    "    if s.v < b.v\n",
    "        b = copy(s)\n",
    "    end\n",
    "    println(\"Iteration $i: $(b.v)\\n\")\n",
    "end\n",
    "println(\"Best solution $(b.v).\")\n",
    "\n"
   ]
  },
  {
   "cell_type": "code",
   "execution_count": 6,
   "id": "4686fb9f",
   "metadata": {},
   "outputs": [
    {
     "name": "stdout",
     "output_type": "stream",
     "text": [
      "vok: 5.833692e6 \n"
     ]
    }
   ],
   "source": [
    "I = Instance(\"instances/rml9.txt\")\n",
    "solution = [1, 34, 35, 36, 2, 37, 3, 38, 72, 4, 39, 5, 73, 40, 74, 41, 6, 7, 8, 42, 9, 10, 75, 43, 11, 44, 12, 45, 77, 46, 78, 47, 48, 15, 16, 49, 17, 50, 51, 18, 84, 19, 52, 20, 85, 53, 381, 21, 54, 86, 382, 55, 87, 22, 378, 88, 23, 56, 89, 24, 57, 25, 90, 58, 91, 26, 59, 27, 60, 92, 61, 28, 93, 29, 62, 30, 63, 31, 376, 32, 64, 33, 94, 377, 95, 65, 101, 96, 97, 436, 379, 98, 380, 383, 384, 113, 112, 125, 124, 134, 111, 147, 123, 133, 146, 158, 169, 182, 197, 196, 207, 206, 195, 404, 217, 205, 194, 409, 157, 168, 181, 408, 145, 193, 233, 225, 216, 204, 192, 144, 132, 391, 122, 121, 385, 131, 120, 109, 388, 390, 142, 130, 439, 108, 119, 83, 82, 81, 100, 80, 14, 79, 99, 106, 105, 140, 117, 128, 139, 153, 163, 176, 393, 188, 250, 200, 213, 222, 415, 249, 230, 248, 212, 247, 246, 229, 221, 211, 245, 244, 403, 243, 242, 241, 187, 399, 396, 401, 186, 400, 174, 173, 152, 185, 162, 151, 161, 150, 149, 136, 126, 114, 137, 127, 386, 103, 441, 102, 115, 104, 389, 387, 66, 442, 67, 68, 69, 70, 71, 116, 392, 138, 175, 76, 13, 164, 107, 397, 118, 129, 141, 154, 165, 189, 201, 402, 202, 155, 190, 166, 178, 191, 398, 395, 394, 179, 143, 167, 110, 180, 159, 135, 170, 148, 183, 160, 171, 184, 199, 210, 220, 226, 411, 410, 414, 237, 265, 420, 437, 416, 275, 268, 423, 272, 264, 236, 263, 262, 413, 261, 422, 419, 260, 259, 258, 257, 256, 255, 156, 412, 203, 177, 215, 224, 214, 232, 223, 231, 254, 253, 252, 251, 418, 208, 417, 218, 198, 209, 219, 438, 305, 306, 307, 427, 338, 337, 336, 335, 334, 333, 332, 432, 375, 374, 304, 373, 372, 331, 371, 370, 330, 369, 368, 345, 367, 329, 303, 328, 364, 327, 431, 302, 363, 326, 301, 362, 325, 300, 344, 299, 429, 361, 324, 298, 360, 297, 323, 430, 322, 296, 321, 295, 320, 294, 293, 319, 318, 317, 291, 316, 290, 315, 314, 288, 351, 313, 350, 340, 287, 312, 349, 286, 433, 311, 348, 285, 339, 310, 284, 309, 283, 308, 280, 440, 426, 267, 271, 405, 274, 270, 277, 238, 276, 273, 269, 239, 281, 282, 279, 266, 234, 227, 240, 406, 228, 428, 341, 342, 346, 347, 352, 343, 353, 354, 355, 434, 356, 357, 289, 424, 358, 421, 292, 425, 435, 359, 365, 366, 278, 235, 407, 172] \n",
    "\n",
    "vok = 0\n",
    "for lookahead=1:I.l \n",
    "    for i=1:I.n\n",
    "        vok += I.D[solution[i],solution[((i+lookahead-1)%(I.n))+1]]\n",
    "    end\n",
    "end\n",
    "println(\"vok: $(vok) \")"
   ]
  }
 ],
 "metadata": {
  "kernelspec": {
   "display_name": "Julia 1.8.0",
   "language": "julia",
   "name": "julia-1.8"
  },
  "language_info": {
   "file_extension": ".jl",
   "mimetype": "application/julia",
   "name": "julia",
   "version": "1.8.0"
  }
 },
 "nbformat": 4,
 "nbformat_minor": 5
}
