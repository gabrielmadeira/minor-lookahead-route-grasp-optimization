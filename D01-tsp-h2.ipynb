{
 "cells": [
  {
   "cell_type": "code",
   "execution_count": 1,
   "id": "87567b2e",
   "metadata": {},
   "outputs": [],
   "source": [
    "using Luxor\n",
    "using NBInclude\n",
    "using Printf\n",
    "using Statistics: mean"
   ]
  },
  {
   "cell_type": "code",
   "execution_count": 2,
   "id": "5f3dc8fb",
   "metadata": {},
   "outputs": [
    {
     "name": "stdout",
     "output_type": "stream",
     "text": [
      "Vizinho mais próximo: 3.0128831e7.\n"
     ]
    }
   ],
   "source": [
    "@nbinclude(\"D01-tsp-h1.ipynb\")"
   ]
  },
  {
   "cell_type": "code",
   "execution_count": 3,
   "id": "94a1be2b",
   "metadata": {
    "scrolled": true
   },
   "outputs": [
    {
     "data": {
      "text/plain": [
       "vmp_rnd (generic function with 1 method)"
      ]
     },
     "execution_count": 3,
     "metadata": {},
     "output_type": "execute_result"
    }
   ],
   "source": [
    "function vmp_rnd(I::Instance,k)\n",
    "    s = Solution([1],0.0)\n",
    "    free=trues(I.n)\n",
    "    free[1]=false\n",
    "    for i=2:I.n\n",
    "         f=findall(free)\n",
    "         ncand=min(k,I.n-i+1)\n",
    "         j=f[sortperm(I.D[s.π[end],f])[rand(1:ncand)]]\n",
    "#          s.v += I.D[s.π[end],j]\n",
    "         push!(s.π,j)\n",
    "         free[j]=false\n",
    "    end\n",
    "    for lookahead=1:I.l\n",
    "        for i=1:I.n\n",
    "#             println(\"$(s.π[i]) - $(s.π[((i+lookahead-1)%(I.n))+1])\")\n",
    "#             println(\"$(I.D[i,((i+lookahead-1)%(I.n))+1])\")\n",
    "            s.v += I.D[s.π[i],s.π[((i+lookahead-1)%(I.n))+1]]\n",
    "        end\n",
    "    end\n",
    "#     push!(s.π,1)\n",
    "    s\n",
    "end"
   ]
  },
  {
   "cell_type": "code",
   "execution_count": 4,
   "id": "e186aaa0",
   "metadata": {
    "scrolled": true
   },
   "outputs": [
    {
     "data": {
      "text/plain": [
       "Solution([1, 35, 36, 68, 37, 69, 38, 39, 71, 72  …  279, 66, 34, 402, 87, 28, 338, 33, 372, 125], 2.6788682e7)"
      ]
     },
     "execution_count": 4,
     "metadata": {},
     "output_type": "execute_result"
    }
   ],
   "source": [
    "s=vmp_rnd(I,3)"
   ]
  },
  {
   "cell_type": "raw",
   "id": "1d39c0f9",
   "metadata": {},
   "source": [
    "@png begin\n",
    "    translate(-200,-200)\n",
    "    scale(400,400)\n",
    "    drawSolution(I,s)\n",
    "    drawInstance(I)\n",
    "end 500 500"
   ]
  },
  {
   "cell_type": "code",
   "execution_count": 5,
   "id": "f7a9a5f4",
   "metadata": {
    "scrolled": true
   },
   "outputs": [
    {
     "name": "stdout",
     "output_type": "stream",
     "text": [
      "Iteração 1: 3.0128831e7\n",
      "Iteração 2: 2.8800112e7\n",
      "Iteração 3: 2.6847477e7\n",
      "Iteração 4: 2.6847477e7\n",
      "Iteração 5: 2.543745e7\n",
      "Iteração 6: 2.543745e7\n",
      "Iteração 7: 2.503573e7\n",
      "Iteração 8: 2.503573e7\n",
      "Iteração 9: 2.503573e7\n",
      "Iteração 10: 2.4389462e7\n",
      "Iteração 11: 2.4389462e7\n",
      "Iteração 12: 2.4389462e7\n",
      "Iteração 13: 2.4389462e7\n",
      "Iteração 14: 2.4389462e7\n",
      "Iteração 15: 2.4389462e7\n",
      "Iteração 16: 2.4389462e7\n",
      "Iteração 17: 2.4389462e7\n",
      "Iteração 18: 2.4389462e7\n",
      "Iteração 19: 2.4389462e7\n",
      "Iteração 20: 2.4389462e7\n",
      "Iteração 21: 2.4389462e7\n",
      "Iteração 22: 2.4389462e7\n",
      "Iteração 23: 2.4389462e7\n",
      "Iteração 24: 2.4389462e7\n",
      "Iteração 25: 2.4389462e7\n",
      "Iteração 26: 2.4389462e7\n",
      "Iteração 27: 2.4389462e7\n",
      "Iteração 28: 2.4389462e7\n",
      "Iteração 29: 2.4389462e7\n",
      "Iteração 30: 2.4389462e7\n",
      "Iteração 31: 2.4389462e7\n",
      "Iteração 32: 2.4122218e7\n",
      "Iteração 33: 2.4122218e7\n",
      "Iteração 34: 2.4122218e7\n",
      "Iteração 35: 2.4122218e7\n",
      "Iteração 36: 2.4122218e7\n",
      "Iteração 37: 2.4122218e7\n",
      "Iteração 38: 2.4122218e7\n",
      "Iteração 39: 2.4122218e7\n",
      "Iteração 40: 2.4122218e7\n",
      "Iteração 41: 2.4122218e7\n",
      "Iteração 42: 2.4122218e7\n",
      "Iteração 43: 2.4122218e7\n",
      "Iteração 44: 2.4122218e7\n",
      "Iteração 45: 2.2713504e7\n",
      "Iteração 46: 2.2713504e7\n",
      "Iteração 47: 2.2713504e7\n",
      "Iteração 48: 2.2713504e7\n",
      "Iteração 49: 2.2713504e7\n",
      "Iteração 50: 2.2713504e7\n",
      "Iteração 51: 2.2713504e7\n",
      "Iteração 52: 2.2713504e7\n",
      "Iteração 53: 2.2713504e7\n",
      "Iteração 54: 2.2713504e7\n",
      "Iteração 55: 2.2713504e7\n",
      "Iteração 56: 2.2713504e7\n",
      "Iteração 57: 2.2385695e7\n",
      "Iteração 58: 2.2385695e7\n",
      "Iteração 59: 2.2385695e7\n",
      "Iteração 60: 2.2385695e7\n",
      "Iteração 61: 2.2385695e7\n",
      "Iteração 62: 2.2385695e7\n",
      "Iteração 63: 2.2385695e7\n",
      "Iteração 64: 2.2385695e7\n",
      "Iteração 65: 2.2385695e7\n",
      "Iteração 66: 2.2385695e7\n",
      "Iteração 67: 2.2385695e7\n",
      "Iteração 68: 2.2385695e7\n",
      "Iteração 69: 2.2385695e7\n",
      "Iteração 70: 2.2385695e7\n",
      "Iteração 71: 2.2385695e7\n",
      "Iteração 72: 2.2385695e7\n",
      "Iteração 73: 2.2385695e7\n",
      "Iteração 74: 2.2385695e7\n",
      "Iteração 75: 2.1985382e7\n",
      "Iteração 76: 2.1985382e7\n",
      "Iteração 77: 2.1985382e7\n",
      "Iteração 78: 2.1985382e7\n",
      "Iteração 79: 2.1985382e7\n",
      "Iteração 80: 2.1985382e7\n",
      "Iteração 81: 2.1985382e7\n",
      "Iteração 82: 2.1985382e7\n",
      "Iteração 83: 2.1985382e7\n",
      "Iteração 84: 2.1985382e7\n",
      "Iteração 85: 2.1985382e7\n",
      "Iteração 86: 2.1985382e7\n",
      "Iteração 87: 2.1985382e7\n",
      "Iteração 88: 2.1985382e7\n",
      "Iteração 89: 2.1985382e7\n",
      "Iteração 90: 2.1985382e7\n",
      "Iteração 91: 2.1985382e7\n",
      "Iteração 92: 2.1985382e7\n",
      "Iteração 93: 2.1985382e7\n",
      "Iteração 94: 2.1985382e7\n",
      "Iteração 95: 2.1985382e7\n",
      "Iteração 96: 2.1985382e7\n",
      "Iteração 97: 2.1985382e7\n",
      "Iteração 98: 2.1985382e7\n",
      "Iteração 99: 2.1985382e7\n",
      "Iteração 100: 2.1985382e7\n",
      "Best solution 2.1985382e7.\n"
     ]
    }
   ],
   "source": [
    "b = vmp(I)\n",
    "for i = 1:100\n",
    "    @elapsed println(\"Iteração $i: $(b.v)\")\n",
    "    s = vmp_rnd(I,2)\n",
    "    s = bl_tca(I,s)\n",
    "    if s.v < b.v\n",
    "        b = copy(s)\n",
    "    end\n",
    "end\n",
    "println(\"Best solution $(b.v).\")"
   ]
  },
  {
   "cell_type": "raw",
   "id": "476f02b7",
   "metadata": {},
   "source": [
    "@png begin\n",
    "    translate(-200,-200)\n",
    "    scale(400,400)\n",
    "    drawSolution(I,b)\n",
    "    drawInstance(I)\n",
    "end 500 500\n"
   ]
  }
 ],
 "metadata": {
  "kernelspec": {
   "display_name": "Julia 1.8.0",
   "language": "julia",
   "name": "julia-1.8"
  },
  "language_info": {
   "file_extension": ".jl",
   "mimetype": "application/julia",
   "name": "julia",
   "version": "1.8.0"
  }
 },
 "nbformat": 4,
 "nbformat_minor": 5
}
