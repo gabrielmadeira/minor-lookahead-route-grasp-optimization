{
 "cells": [
  {
   "cell_type": "code",
   "execution_count": 1,
   "id": "87567b2e",
   "metadata": {},
   "outputs": [],
   "source": [
    "using Luxor\n",
    "using NBInclude\n",
    "using Printf\n",
    "using Statistics: mean"
   ]
  },
  {
   "cell_type": "code",
   "execution_count": 2,
   "id": "5f3dc8fb",
   "metadata": {},
   "outputs": [
    {
     "name": "stdout",
     "output_type": "stream",
     "text": [
      "Vizinho mais próximo: 4.8684563e7.\n"
     ]
    }
   ],
   "source": [
    "@nbinclude(\"D01-tsp-h1.ipynb\")"
   ]
  },
  {
   "cell_type": "code",
   "execution_count": 3,
   "id": "94a1be2b",
   "metadata": {},
   "outputs": [
    {
     "data": {
      "text/plain": [
       "vmp_rnd (generic function with 1 method)"
      ]
     },
     "execution_count": 3,
     "metadata": {},
     "output_type": "execute_result"
    }
   ],
   "source": [
    "function vmp_rnd(I::Instance,k)\n",
    "    s = Solution([1],0.0)\n",
    "    free=trues(I.n)\n",
    "    free[1]=false\n",
    "    for i=2:I.n\n",
    "         f=findall(free)\n",
    "         ncand=min(k,I.n-i+1)\n",
    "         j=f[sortperm(I.D[s.π[end],f])[rand(1:ncand)]]\n",
    "#          s.v += I.D[s.π[end],j]\n",
    "         push!(s.π,j)\n",
    "         free[j]=false\n",
    "    end\n",
    "    for lookahead=1:I.l\n",
    "        for i=1:I.n\n",
    "#             println(\"$(s.π[i]) - $(s.π[((i+lookahead-1)%(I.n))+1])\")\n",
    "#             println(\"$(I.D[i,((i+lookahead-1)%(I.n))+1])\")\n",
    "            s.v += I.D[s.π[i],s.π[((i+lookahead-1)%(I.n))+1]]\n",
    "        end\n",
    "    end\n",
    "    push!(s.π,1)\n",
    "    s\n",
    "end"
   ]
  },
  {
   "cell_type": "code",
   "execution_count": 4,
   "id": "e186aaa0",
   "metadata": {},
   "outputs": [
    {
     "data": {
      "text/plain": [
       "Solution([1, 2391, 2390, 2392, 2388, 2389, 2387, 2, 2385, 2386  …  1760, 1895, 821, 2130, 2381, 1282, 620, 1611, 2273, 1], 6.2602963e7)"
      ]
     },
     "execution_count": 4,
     "metadata": {},
     "output_type": "execute_result"
    }
   ],
   "source": [
    "s=vmp_rnd(I,3)"
   ]
  },
  {
   "cell_type": "raw",
   "id": "4af24334",
   "metadata": {},
   "source": [
    "@png begin\n",
    "    translate(-200,-200)\n",
    "    scale(400,400)\n",
    "    drawSolution(I,s)\n",
    "    drawInstance(I)\n",
    "end 500 500"
   ]
  },
  {
   "cell_type": "code",
   "execution_count": null,
   "id": "f7a9a5f4",
   "metadata": {},
   "outputs": [
    {
     "name": "stdout",
     "output_type": "stream",
     "text": [
      "Iteração 1: 4.8684563e7\n",
      "Iteração 2: 4.8684563e7\n",
      "Iteração 3: 4.8684563e7\n",
      "Iteração 4: 4.8684563e7\n",
      "Iteração 5: 4.8684563e7\n",
      "Iteração 6: 4.8684563e7\n",
      "Iteração 7: 4.8684563e7\n",
      "Iteração 8: 4.8684563e7\n",
      "Iteração 9: 4.8684563e7\n",
      "Iteração 10: 4.8684563e7\n"
     ]
    }
   ],
   "source": [
    "b = vmp(I)\n",
    "for i = 1:100\n",
    "    @elapsed println(\"Iteração $i: $(b.v)\")\n",
    "    s = vmp_rnd(I,2)\n",
    "    s = bl_2ex(I,s)\n",
    "    if s.v < b.v\n",
    "        b = copy(s)\n",
    "    end\n",
    "end\n",
    "println(\"Best solution $(b.v).\")"
   ]
  },
  {
   "cell_type": "raw",
   "id": "76e57896",
   "metadata": {},
   "source": [
    "@png begin\n",
    "    translate(-200,-200)\n",
    "    scale(400,400)\n",
    "    drawSolution(I,b)\n",
    "    drawInstance(I)\n",
    "end 500 500\n"
   ]
  }
 ],
 "metadata": {
  "kernelspec": {
   "display_name": "Julia 1.8.0",
   "language": "julia",
   "name": "julia-1.8"
  },
  "language_info": {
   "file_extension": ".jl",
   "mimetype": "application/julia",
   "name": "julia",
   "version": "1.8.0"
  }
 },
 "nbformat": 4,
 "nbformat_minor": 5
}
