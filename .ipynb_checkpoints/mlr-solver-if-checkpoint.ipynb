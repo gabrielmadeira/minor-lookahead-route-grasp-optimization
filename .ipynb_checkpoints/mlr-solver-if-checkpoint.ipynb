{
 "cells": [
  {
   "cell_type": "code",
   "execution_count": 1,
   "id": "109f01a2",
   "metadata": {
    "scrolled": true
   },
   "outputs": [],
   "source": [
    "using GLPK\n",
    "using JuMP"
   ]
  },
  {
   "cell_type": "code",
   "execution_count": 2,
   "id": "e3c6aa65",
   "metadata": {},
   "outputs": [],
   "source": [
    "m = Model()\n",
    "set_optimizer(m,GLPK.Optimizer);"
   ]
  },
  {
   "cell_type": "code",
   "execution_count": 3,
   "id": "307bc8af",
   "metadata": {},
   "outputs": [],
   "source": [
    "mutable struct Instance\n",
    "    n :: Int64\n",
    "    D\n",
    "    l\n",
    "    function Instance(s)\n",
    "        D = zeros(1,1)\n",
    "        nNodes = 0\n",
    "        l = 0\n",
    "        open(s) do f\n",
    "            line = 1\n",
    "            lineContent = readline(f)\n",
    "            lineSplited = split(lineContent, \" \")\n",
    "            nNodes = parse(Int64, lineSplited[1])\n",
    "            l = parse(Int64, lineSplited[2])\n",
    "            D = zeros(nNodes,nNodes)\n",
    "            while ! eof(f)\n",
    "                lineContent = readline(f)\n",
    "                lineSplited = split(lineContent, \" \")\n",
    "                for col = 1:nNodes\n",
    "                    D[line,col] = parse(Float64, lineSplited[col])\n",
    "                end\n",
    "                \n",
    "                line += 1\n",
    "            end\n",
    "        end\n",
    "        new(nNodes,D,l)\n",
    "    end\n",
    "end"
   ]
  },
  {
   "cell_type": "code",
   "execution_count": 4,
   "id": "34613125",
   "metadata": {},
   "outputs": [
    {
     "data": {
      "text/plain": [
       "Instance(5, [0.0 2.0 … 3.0 1.0; 2.0 0.0 … 1.0 1.0; … ; 3.0 1.0 … 0.0 1.0; 1.0 1.0 … 1.0 0.0], 2)"
      ]
     },
     "execution_count": 4,
     "metadata": {},
     "output_type": "execute_result"
    }
   ],
   "source": [
    "I = Instance(\"instances/test52.txt\")"
   ]
  },
  {
   "cell_type": "code",
   "execution_count": 5,
   "id": "b0fd700b",
   "metadata": {},
   "outputs": [
    {
     "data": {
      "text/plain": [
       "5×5×2 Array{VariableRef, 3}:\n",
       "[:, :, 1] =\n",
       " x[1,1,1]  x[1,2,1]  x[1,3,1]  x[1,4,1]  x[1,5,1]\n",
       " x[2,1,1]  x[2,2,1]  x[2,3,1]  x[2,4,1]  x[2,5,1]\n",
       " x[3,1,1]  x[3,2,1]  x[3,3,1]  x[3,4,1]  x[3,5,1]\n",
       " x[4,1,1]  x[4,2,1]  x[4,3,1]  x[4,4,1]  x[4,5,1]\n",
       " x[5,1,1]  x[5,2,1]  x[5,3,1]  x[5,4,1]  x[5,5,1]\n",
       "\n",
       "[:, :, 2] =\n",
       " x[1,1,2]  x[1,2,2]  x[1,3,2]  x[1,4,2]  x[1,5,2]\n",
       " x[2,1,2]  x[2,2,2]  x[2,3,2]  x[2,4,2]  x[2,5,2]\n",
       " x[3,1,2]  x[3,2,2]  x[3,3,2]  x[3,4,2]  x[3,5,2]\n",
       " x[4,1,2]  x[4,2,2]  x[4,3,2]  x[4,4,2]  x[4,5,2]\n",
       " x[5,1,2]  x[5,2,2]  x[5,3,2]  x[5,4,2]  x[5,5,2]"
      ]
     },
     "execution_count": 5,
     "metadata": {},
     "output_type": "execute_result"
    }
   ],
   "source": [
    "# @variable(m, u[1:I.n]) # colocar real positivo # restrição remoção de subciclos\n",
    "@variable(m, x[1:I.n,1:I.n,1:I.l], Bin)"
   ]
  },
  {
   "cell_type": "code",
   "execution_count": null,
   "id": "4d93e810",
   "metadata": {},
   "outputs": [],
   "source": [
    "@constraint(m, [i=1:I.n], sum(x[i,j,1] for j=1:I.n)==1)\n",
    "@constraint(m, [j=1:I.n], sum(x[i,j,1] for i=1:I.n)==1)\n",
    "\n",
    "#@constraint(m, sum(x[i,j,1] for i=1:I.n, j=1:I.n)==I.n)\n",
    "\n",
    "#for l=2:I.l\n",
    "#    for i=1:I.n\n",
    "#        for j=1:I.n\n",
    "#           if (sum(x[i,a,l-1] + x[a,j,l-1] for a=1:I.n)) == 2\n",
    "#               @constraint (m, x[i,j,l] == 1)  \n",
    "#           end\n",
    "#        end\n",
    "#    end\n",
    "#end\n",
    "\n",
    "for l=2:I.l\n",
    "    for a=1:I.n\n",
    "        @constraint(m, [i=1:I.n,j=1:I.n], x[i,j,l] == if (sum(x[i,a,l-1] + x[a,j,l-1]) == 2) 1 else 0 end)\n",
    "    end\n",
    "end                    \n",
    "                    \n",
    "\n",
    "for l=1:I.l\n",
    "    @constraint(m, [i=1:I.n], x[i,i,l] == 0)\n",
    "end\n",
    "\n",
    "#@constraint(m, [i=1:I.n], y[1,i] == sum(x[i,j]*j for j=1:I.n)) # for lookahed=1\n",
    "\n",
    "# for l=2:I.l\n",
    "#     @constraint(m, [i=1:I.n], y[l,i] == y[l-1,y[l-1,i]])\n",
    "# end\n",
    "\n",
    "# @objective(m, Min, sum(I.D[i,y[s,i]] for s=1:I.l, i=1:I.n))\n",
    "\n",
    "# restrição remoção de subciclos\n",
    "\n",
    "# @objective(m, Min, sum(I.D[pi[i],pi[i+s]]*x[pi[i],pi[i+s]] for s=1:I.l, i=1:I.n))\n",
    "\n",
    "# @objective(m, Min, sum(D[i,j]*x[i,j] for i=1:n, j=1:n))\n",
    "# @constraint(m, Min, sum(D[i,j]*x[i,j] for i=1:n, j=1:n))"
   ]
  },
  {
   "cell_type": "code",
   "execution_count": null,
   "id": "c115c4d9",
   "metadata": {
    "scrolled": true
   },
   "outputs": [],
   "source": [
    "@objective(m, Min, sum(I.D[i,j] * x[i,j,s] for s=1:I.l, i=1:I.n, j=1:I.n))"
   ]
  },
  {
   "cell_type": "code",
   "execution_count": null,
   "id": "11ab3ef6",
   "metadata": {},
   "outputs": [],
   "source": [
    "#ISSO FOI O PRINT QUE MANDAMOS PRO PROFESSOR\n",
    "\n",
    "#@variable(m, x[1:I.n,1:I.n,1:I.l], Bin)\n",
    "\n",
    "#@constraint(m, [i=1:I.n], sum(x[i,j,1] for j=1:I.n)==1)\n",
    "#@constraint(m, [j=1:I.n], sum(x[i,j,1] for i=1:I.n)==1)\n",
    "\n",
    "#@constraint(m, sum(x[i,j,1] for i=1:I.n, j=1:I.n)==I.n)\n",
    "\n",
    "#for l=2:I.l\n",
    "#    @constraint(m, [i=1:I.n,j=1:I.n], x[i,j,l] <= sum((x[a,j,l-1]+x[i,a,l-1])/2 for a=1:I.n))\n",
    "#    @constraint(m, [i=1:I.n,j=1:I.n], x[i,j,l] >= sum(x[a,j,l-1]+x[i,a,l-1]-1 for a=1:I.n))\n",
    "#end\n",
    "\n",
    "#@constraint(m, [i=1:I.n], x[i,i,1] == 0)\n",
    "\n",
    "#@objective(m, Min, sum(I.D[i,j] * x[i,j,s] for s=1:I.l, i=1:I.n, j=1:I.n))"
   ]
  },
  {
   "cell_type": "code",
   "execution_count": null,
   "id": "0208c3cc",
   "metadata": {},
   "outputs": [],
   "source": [
    "optimize!(m)\n",
    "objective_value(m)"
   ]
  },
  {
   "cell_type": "code",
   "execution_count": null,
   "id": "d444a069",
   "metadata": {},
   "outputs": [],
   "source": [
    "println(m)"
   ]
  },
  {
   "cell_type": "code",
   "execution_count": null,
   "id": "4767dbfd",
   "metadata": {},
   "outputs": [],
   "source": [
    "for i=1:I.n print(value(x[i]), \" \") end"
   ]
  },
  {
   "cell_type": "code",
   "execution_count": null,
   "id": "1491ac74",
   "metadata": {},
   "outputs": [],
   "source": []
  }
 ],
 "metadata": {
  "kernelspec": {
   "display_name": "Julia 1.8.1",
   "language": "julia",
   "name": "julia-1.8"
  },
  "language_info": {
   "file_extension": ".jl",
   "mimetype": "application/julia",
   "name": "julia",
   "version": "1.8.1"
  }
 },
 "nbformat": 4,
 "nbformat_minor": 5
}
