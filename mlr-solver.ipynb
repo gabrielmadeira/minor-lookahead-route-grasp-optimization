{
 "cells": [
  {
   "cell_type": "code",
   "execution_count": 1,
   "id": "109f01a2",
   "metadata": {
    "scrolled": true
   },
   "outputs": [],
   "source": [
    "using GLPK\n",
    "using JuMP"
   ]
  },
  {
   "cell_type": "code",
   "execution_count": 2,
   "id": "e3c6aa65",
   "metadata": {},
   "outputs": [],
   "source": [
    "m = Model()\n",
    "set_optimizer(m,GLPK.Optimizer);"
   ]
  },
  {
   "cell_type": "code",
   "execution_count": 3,
   "id": "307bc8af",
   "metadata": {},
   "outputs": [],
   "source": [
    "mutable struct Instance\n",
    "    n :: Int64\n",
    "    D\n",
    "    l\n",
    "    function Instance(s)\n",
    "        D = zeros(1,1)\n",
    "        nNodes = 0\n",
    "        l = 0\n",
    "        open(s) do f\n",
    "            line = 1\n",
    "            lineContent = readline(f)\n",
    "            lineSplited = split(lineContent, \" \")\n",
    "            nNodes = parse(Int64, lineSplited[1])\n",
    "            l = parse(Int64, lineSplited[2])\n",
    "            D = zeros(nNodes,nNodes)\n",
    "            while ! eof(f)\n",
    "                lineContent = readline(f)\n",
    "                lineSplited = split(lineContent, \" \")\n",
    "                for col = 1:nNodes\n",
    "                    D[line,col] = parse(Float64, lineSplited[col])\n",
    "                end\n",
    "                \n",
    "                line += 1\n",
    "            end\n",
    "        end\n",
    "        new(nNodes,D,l)\n",
    "    end\n",
    "end"
   ]
  },
  {
   "cell_type": "code",
   "execution_count": 4,
   "id": "34613125",
   "metadata": {},
   "outputs": [
    {
     "data": {
      "text/plain": [
       "Instance(5, [0.0 2.0 … 3.0 1.0; 2.0 0.0 … 1.0 1.0; … ; 3.0 1.0 … 0.0 1.0; 1.0 1.0 … 1.0 0.0], 2)"
      ]
     },
     "execution_count": 4,
     "metadata": {},
     "output_type": "execute_result"
    }
   ],
   "source": [
    "I = Instance(\"instances/test.txt\")"
   ]
  },
  {
   "cell_type": "code",
   "execution_count": 5,
   "id": "b0fd700b",
   "metadata": {},
   "outputs": [
    {
     "data": {
      "text/plain": [
       "5×5×2 Array{VariableRef, 3}:\n",
       "[:, :, 1] =\n",
       " x[1,1,1]  x[1,2,1]  x[1,3,1]  x[1,4,1]  x[1,5,1]\n",
       " x[2,1,1]  x[2,2,1]  x[2,3,1]  x[2,4,1]  x[2,5,1]\n",
       " x[3,1,1]  x[3,2,1]  x[3,3,1]  x[3,4,1]  x[3,5,1]\n",
       " x[4,1,1]  x[4,2,1]  x[4,3,1]  x[4,4,1]  x[4,5,1]\n",
       " x[5,1,1]  x[5,2,1]  x[5,3,1]  x[5,4,1]  x[5,5,1]\n",
       "\n",
       "[:, :, 2] =\n",
       " x[1,1,2]  x[1,2,2]  x[1,3,2]  x[1,4,2]  x[1,5,2]\n",
       " x[2,1,2]  x[2,2,2]  x[2,3,2]  x[2,4,2]  x[2,5,2]\n",
       " x[3,1,2]  x[3,2,2]  x[3,3,2]  x[3,4,2]  x[3,5,2]\n",
       " x[4,1,2]  x[4,2,2]  x[4,3,2]  x[4,4,2]  x[4,5,2]\n",
       " x[5,1,2]  x[5,2,2]  x[5,3,2]  x[5,4,2]  x[5,5,2]"
      ]
     },
     "execution_count": 5,
     "metadata": {},
     "output_type": "execute_result"
    }
   ],
   "source": [
    "# @variable(m, u[1:I.n]) # colocar real positivo # restrição remoção de subciclos\n",
    "@variable(m, x[1:I.n,1:I.n,1:I.l], Bin)"
   ]
  },
  {
   "cell_type": "code",
   "execution_count": 6,
   "id": "4d93e810",
   "metadata": {},
   "outputs": [
    {
     "data": {
      "text/plain": [
       "5-element Vector{ConstraintRef{Model, MathOptInterface.ConstraintIndex{MathOptInterface.ScalarAffineFunction{Float64}, MathOptInterface.EqualTo{Float64}}, ScalarShape}}:\n",
       " x[1,1,1] == 0.0\n",
       " x[2,2,1] == 0.0\n",
       " x[3,3,1] == 0.0\n",
       " x[4,4,1] == 0.0\n",
       " x[5,5,1] == 0.0"
      ]
     },
     "execution_count": 6,
     "metadata": {},
     "output_type": "execute_result"
    }
   ],
   "source": [
    "@constraint(m, [i=1:I.n], sum(x[i,j,1] for j=1:I.n)==1)\n",
    "@constraint(m, [j=1:I.n], sum(x[i,j,1] for i=1:I.n)==1)\n",
    "\n",
    "# @constraint(m, sum(x[i,j,1] for i=1:I.n, j=1:I.n)==I.n)\n",
    "\n",
    "for l=2:I.l\n",
    "#     @constraint(m, [i=1:I.n,j=1:I.n], x[i,j,l] <= sum((x[a,j,l-1]+x[i,a,l-1])/2 for a=1:I.n))\n",
    "    @constraint(m, [i=1:I.n,j=1:I.n], x[i,j,l] >= sum(x[a,j,l-1]+x[i,a,1]-1 for a=1:I.n))\n",
    "end\n",
    "\n",
    "# dar exemplos\n",
    "# caso caber na memoria, \n",
    "\n",
    "@constraint(m, [i=1:I.n], x[i,i,1] == 0)"
   ]
  },
  {
   "cell_type": "code",
   "execution_count": null,
   "id": "93ac14c8",
   "metadata": {},
   "outputs": [],
   "source": [
    "# @constraint(m, [i=1:I.n], y[1,i] == sum(x[i,j]*j for j=1:I.n)) # for lookahed=1\n",
    "\n",
    "# for l=2:I.l\n",
    "#     @constraint(m, [i=1:I.n], y[l,i] == y[l-1,y[l-1,i]])\n",
    "# end\n",
    "\n",
    "# @objective(m, Min, sum(I.D[i,y[s,i]] for s=1:I.l, i=1:I.n))\n",
    "\n",
    "# restrição remoção de subciclos\n",
    "\n",
    "# @objective(m, Min, sum(I.D[pi[i],pi[i+s]]*x[pi[i],pi[i+s]] for s=1:I.l, i=1:I.n))\n",
    "\n",
    "# @objective(m, Min, sum(D[i,j]*x[i,j] for i=1:n, j=1:n))\n",
    "# @constraint(m, Min, sum(D[i,j]*x[i,j] for i=1:n, j=1:n))"
   ]
  },
  {
   "cell_type": "code",
   "execution_count": 7,
   "id": "c115c4d9",
   "metadata": {},
   "outputs": [
    {
     "data": {
      "text/latex": [
       "$$ 2 x_{1,2,1} + 2 x_{1,3,1} + 3 x_{1,4,1} + x_{1,5,1} + 2 x_{2,1,1} + x_{2,3,1} + x_{2,4,1} + x_{2,5,1} + 2 x_{3,1,1} + x_{3,2,1} + 2 x_{3,4,1} + 3 x_{3,5,1} + 3 x_{4,1,1} + x_{4,2,1} + 2 x_{4,3,1} + x_{4,5,1} + x_{5,1,1} + x_{5,2,1} + 3 x_{5,3,1} + x_{5,4,1} + 2 x_{1,2,2} + 2 x_{1,3,2} + 3 x_{1,4,2} + x_{1,5,2} + 2 x_{2,1,2} + x_{2,3,2} + x_{2,4,2} + x_{2,5,2} + 2 x_{3,1,2} + x_{3,2,2} + 2 x_{3,4,2} + 3 x_{3,5,2} + 3 x_{4,1,2} + x_{4,2,2} + 2 x_{4,3,2} + x_{4,5,2} + x_{5,1,2} + x_{5,2,2} + 3 x_{5,3,2} + x_{5,4,2} $$"
      ],
      "text/plain": [
       "2 x[1,2,1] + 2 x[1,3,1] + 3 x[1,4,1] + x[1,5,1] + 2 x[2,1,1] + x[2,3,1] + x[2,4,1] + x[2,5,1] + 2 x[3,1,1] + x[3,2,1] + 2 x[3,4,1] + 3 x[3,5,1] + 3 x[4,1,1] + x[4,2,1] + 2 x[4,3,1] + x[4,5,1] + x[5,1,1] + x[5,2,1] + 3 x[5,3,1] + x[5,4,1] + 2 x[1,2,2] + 2 x[1,3,2] + 3 x[1,4,2] + x[1,5,2] + 2 x[2,1,2] + x[2,3,2] + x[2,4,2] + x[2,5,2] + 2 x[3,1,2] + x[3,2,2] + 2 x[3,4,2] + 3 x[3,5,2] + 3 x[4,1,2] + x[4,2,2] + 2 x[4,3,2] + x[4,5,2] + x[5,1,2] + x[5,2,2] + 3 x[5,3,2] + x[5,4,2]"
      ]
     },
     "execution_count": 7,
     "metadata": {},
     "output_type": "execute_result"
    }
   ],
   "source": [
    "@objective(m, Min, sum(I.D[i,j] * x[i,j,s] for s=1:I.l, i=1:I.n, j=1:I.n))"
   ]
  },
  {
   "cell_type": "code",
   "execution_count": 8,
   "id": "0208c3cc",
   "metadata": {},
   "outputs": [
    {
     "data": {
      "text/plain": [
       "6.0"
      ]
     },
     "execution_count": 8,
     "metadata": {},
     "output_type": "execute_result"
    }
   ],
   "source": [
    "optimize!(m)\n",
    "objective_value(m)"
   ]
  },
  {
   "cell_type": "code",
   "execution_count": 9,
   "id": "d444a069",
   "metadata": {},
   "outputs": [
    {
     "name": "stdout",
     "output_type": "stream",
     "text": [
      "Min 2 x[1,2,1] + 2 x[1,3,1] + 3 x[1,4,1] + x[1,5,1] + 2 x[2,1,1] + x[2,3,1] + x[2,4,1] + x[2,5,1] + 2 x[3,1,1] + x[3,2,1] + 2 x[3,4,1] + 3 x[3,5,1] + 3 x[4,1,1] + x[4,2,1] + 2 x[4,3,1] + x[4,5,1] + x[5,1,1] + x[5,2,1] + 3 x[5,3,1] + x[5,4,1] + 2 x[1,2,2] + 2 x[1,3,2] + 3 x[1,4,2] + x[1,5,2] + 2 x[2,1,2] + x[2,3,2] + x[2,4,2] + x[2,5,2] + 2 x[3,1,2] + x[3,2,2] + 2 x[3,4,2] + 3 x[3,5,2] + 3 x[4,1,2] + x[4,2,2] + 2 x[4,3,2] + x[4,5,2] + x[5,1,2] + x[5,2,2] + 3 x[5,3,2] + x[5,4,2]\n",
      "Subject to\n",
      " x[1,1,1] + x[1,2,1] + x[1,3,1] + x[1,4,1] + x[1,5,1] == 1.0\n",
      " x[2,1,1] + x[2,2,1] + x[2,3,1] + x[2,4,1] + x[2,5,1] == 1.0\n",
      " x[3,1,1] + x[3,2,1] + x[3,3,1] + x[3,4,1] + x[3,5,1] == 1.0\n",
      " x[4,1,1] + x[4,2,1] + x[4,3,1] + x[4,4,1] + x[4,5,1] == 1.0\n",
      " x[5,1,1] + x[5,2,1] + x[5,3,1] + x[5,4,1] + x[5,5,1] == 1.0\n",
      " x[1,1,1] + x[2,1,1] + x[3,1,1] + x[4,1,1] + x[5,1,1] == 1.0\n",
      " x[1,2,1] + x[2,2,1] + x[3,2,1] + x[4,2,1] + x[5,2,1] == 1.0\n",
      " x[1,3,1] + x[2,3,1] + x[3,3,1] + x[4,3,1] + x[5,3,1] == 1.0\n",
      " x[1,4,1] + x[2,4,1] + x[3,4,1] + x[4,4,1] + x[5,4,1] == 1.0\n",
      " x[1,5,1] + x[2,5,1] + x[3,5,1] + x[4,5,1] + x[5,5,1] == 1.0\n",
      " x[1,1,1] == 0.0\n",
      " x[2,2,1] == 0.0\n",
      " x[3,3,1] == 0.0\n",
      " x[4,4,1] == 0.0\n",
      " x[5,5,1] == 0.0\n",
      " -2 x[1,1,1] - x[2,1,1] - x[3,1,1] - x[4,1,1] - x[5,1,1] - x[1,2,1] - x[1,3,1] - x[1,4,1] - x[1,5,1] + x[1,1,2] >= -5.0\n",
      " -x[1,1,1] - 2 x[2,1,1] - x[3,1,1] - x[4,1,1] - x[5,1,1] - x[2,2,1] - x[2,3,1] - x[2,4,1] - x[2,5,1] + x[2,1,2] >= -5.0\n",
      " -x[1,1,1] - x[2,1,1] - 2 x[3,1,1] - x[4,1,1] - x[5,1,1] - x[3,2,1] - x[3,3,1] - x[3,4,1] - x[3,5,1] + x[3,1,2] >= -5.0\n",
      " -x[1,1,1] - x[2,1,1] - x[3,1,1] - 2 x[4,1,1] - x[5,1,1] - x[4,2,1] - x[4,3,1] - x[4,4,1] - x[4,5,1] + x[4,1,2] >= -5.0\n",
      " -x[1,1,1] - x[2,1,1] - x[3,1,1] - x[4,1,1] - 2 x[5,1,1] - x[5,2,1] - x[5,3,1] - x[5,4,1] - x[5,5,1] + x[5,1,2] >= -5.0\n",
      " -x[1,1,1] - 2 x[1,2,1] - x[2,2,1] - x[3,2,1] - x[4,2,1] - x[5,2,1] - x[1,3,1] - x[1,4,1] - x[1,5,1] + x[1,2,2] >= -5.0\n",
      " -x[2,1,1] - x[1,2,1] - 2 x[2,2,1] - x[3,2,1] - x[4,2,1] - x[5,2,1] - x[2,3,1] - x[2,4,1] - x[2,5,1] + x[2,2,2] >= -5.0\n",
      " -x[3,1,1] - x[1,2,1] - x[2,2,1] - 2 x[3,2,1] - x[4,2,1] - x[5,2,1] - x[3,3,1] - x[3,4,1] - x[3,5,1] + x[3,2,2] >= -5.0\n",
      " -x[4,1,1] - x[1,2,1] - x[2,2,1] - x[3,2,1] - 2 x[4,2,1] - x[5,2,1] - x[4,3,1] - x[4,4,1] - x[4,5,1] + x[4,2,2] >= -5.0\n",
      " -x[5,1,1] - x[1,2,1] - x[2,2,1] - x[3,2,1] - x[4,2,1] - 2 x[5,2,1] - x[5,3,1] - x[5,4,1] - x[5,5,1] + x[5,2,2] >= -5.0\n",
      " -x[1,1,1] - x[1,2,1] - 2 x[1,3,1] - x[2,3,1] - x[3,3,1] - x[4,3,1] - x[5,3,1] - x[1,4,1] - x[1,5,1] + x[1,3,2] >= -5.0\n",
      " -x[2,1,1] - x[2,2,1] - x[1,3,1] - 2 x[2,3,1] - x[3,3,1] - x[4,3,1] - x[5,3,1] - x[2,4,1] - x[2,5,1] + x[2,3,2] >= -5.0\n",
      " -x[3,1,1] - x[3,2,1] - x[1,3,1] - x[2,3,1] - 2 x[3,3,1] - x[4,3,1] - x[5,3,1] - x[3,4,1] - x[3,5,1] + x[3,3,2] >= -5.0\n",
      " -x[4,1,1] - x[4,2,1] - x[1,3,1] - x[2,3,1] - x[3,3,1] - 2 x[4,3,1] - x[5,3,1] - x[4,4,1] - x[4,5,1] + x[4,3,2] >= -5.0\n",
      " -x[5,1,1] - x[5,2,1] - x[1,3,1] - x[2,3,1] - x[3,3,1] - x[4,3,1] - 2 x[5,3,1] - x[5,4,1] - x[5,5,1] + x[5,3,2] >= -5.0\n",
      " -x[1,1,1] - x[1,2,1] - x[1,3,1] - 2 x[1,4,1] - x[2,4,1] - x[3,4,1] - x[4,4,1] - x[5,4,1] - x[1,5,1] + x[1,4,2] >= -5.0\n",
      " -x[2,1,1] - x[2,2,1] - x[2,3,1] - x[1,4,1] - 2 x[2,4,1] - x[3,4,1] - x[4,4,1] - x[5,4,1] - x[2,5,1] + x[2,4,2] >= -5.0\n",
      " -x[3,1,1] - x[3,2,1] - x[3,3,1] - x[1,4,1] - x[2,4,1] - 2 x[3,4,1] - x[4,4,1] - x[5,4,1] - x[3,5,1] + x[3,4,2] >= -5.0\n",
      " -x[4,1,1] - x[4,2,1] - x[4,3,1] - x[1,4,1] - x[2,4,1] - x[3,4,1] - 2 x[4,4,1] - x[5,4,1] - x[4,5,1] + x[4,4,2] >= -5.0\n",
      " -x[5,1,1] - x[5,2,1] - x[5,3,1] - x[1,4,1] - x[2,4,1] - x[3,4,1] - x[4,4,1] - 2 x[5,4,1] - x[5,5,1] + x[5,4,2] >= -5.0\n",
      " -x[1,1,1] - x[1,2,1] - x[1,3,1] - x[1,4,1] - 2 x[1,5,1] - x[2,5,1] - x[3,5,1] - x[4,5,1] - x[5,5,1] + x[1,5,2] >= -5.0\n",
      " -x[2,1,1] - x[2,2,1] - x[2,3,1] - x[2,4,1] - x[1,5,1] - 2 x[2,5,1] - x[3,5,1] - x[4,5,1] - x[5,5,1] + x[2,5,2] >= -5.0\n",
      " -x[3,1,1] - x[3,2,1] - x[3,3,1] - x[3,4,1] - x[1,5,1] - x[2,5,1] - 2 x[3,5,1] - x[4,5,1] - x[5,5,1] + x[3,5,2] >= -5.0\n",
      " -x[4,1,1] - x[4,2,1] - x[4,3,1] - x[4,4,1] - x[1,5,1] - x[2,5,1] - x[3,5,1] - 2 x[4,5,1] - x[5,5,1] + x[4,5,2] >= -5.0\n",
      " -x[5,1,1] - x[5,2,1] - x[5,3,1] - x[5,4,1] - x[1,5,1] - x[2,5,1] - x[3,5,1] - x[4,5,1] - 2 x[5,5,1] + x[5,5,2] >= -5.0\n",
      " x[1,1,1] binary\n",
      " x[2,1,1] binary\n",
      " x[3,1,1] binary\n",
      " x[4,1,1] binary\n",
      " x[5,1,1] binary\n",
      " x[1,2,1] binary\n",
      " x[2,2,1] binary\n",
      " x[3,2,1] binary\n",
      " x[4,2,1] binary\n",
      " x[5,2,1] binary\n",
      " x[1,3,1] binary\n",
      " x[2,3,1] binary\n",
      " x[3,3,1] binary\n",
      " x[4,3,1] binary\n",
      " x[5,3,1] binary\n",
      " x[1,4,1] binary\n",
      " x[2,4,1] binary\n",
      " x[3,4,1] binary\n",
      " x[4,4,1] binary\n",
      " x[5,4,1] binary\n",
      " x[1,5,1] binary\n",
      " x[2,5,1] binary\n",
      " x[3,5,1] binary\n",
      " x[4,5,1] binary\n",
      " x[5,5,1] binary\n",
      " x[1,1,2] binary\n",
      " x[2,1,2] binary\n",
      " x[3,1,2] binary\n",
      " x[4,1,2] binary\n",
      " x[5,1,2] binary\n",
      " x[1,2,2] binary\n",
      " x[2,2,2] binary\n",
      " x[3,2,2] binary\n",
      " x[4,2,2] binary\n",
      " x[5,2,2] binary\n",
      " x[1,3,2] binary\n",
      " x[2,3,2] binary\n",
      " x[3,3,2] binary\n",
      " x[4,3,2] binary\n",
      " x[5,3,2] binary\n",
      " x[1,4,2] binary\n",
      " x[2,4,2] binary\n",
      " x[3,4,2] binary\n",
      " x[4,4,2] binary\n",
      " x[5,4,2] binary\n",
      " x[1,5,2] binary\n",
      " x[2,5,2] binary\n",
      " x[3,5,2] binary\n",
      " x[4,5,2] binary\n",
      " x[5,5,2] binary\n",
      "\n"
     ]
    }
   ],
   "source": [
    "println(m)"
   ]
  },
  {
   "cell_type": "code",
   "execution_count": 13,
   "id": "4767dbfd",
   "metadata": {},
   "outputs": [
    {
     "name": "stdout",
     "output_type": "stream",
     "text": [
      "1.0 0.0 1.0 1.0 "
     ]
    }
   ],
   "source": [
    "for i=1:n print(value(x[i]), \" \") end"
   ]
  }
 ],
 "metadata": {
  "kernelspec": {
   "display_name": "Julia 1.8.0",
   "language": "julia",
   "name": "julia-1.8"
  },
  "language_info": {
   "file_extension": ".jl",
   "mimetype": "application/julia",
   "name": "julia",
   "version": "1.8.0"
  }
 },
 "nbformat": 4,
 "nbformat_minor": 5
}
