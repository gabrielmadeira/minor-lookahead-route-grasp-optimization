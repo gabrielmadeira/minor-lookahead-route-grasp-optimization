{
 "cells": [
  {
   "cell_type": "code",
   "execution_count": 1,
   "id": "109f01a2",
   "metadata": {
    "scrolled": true
   },
   "outputs": [],
   "source": [
    "using GLPK\n",
    "using JuMP"
   ]
  },
  {
   "cell_type": "code",
   "execution_count": 2,
   "id": "e3c6aa65",
   "metadata": {},
   "outputs": [],
   "source": [
    "m = Model()\n",
    "set_optimizer(m,GLPK.Optimizer);"
   ]
  },
  {
   "cell_type": "code",
   "execution_count": 3,
   "id": "614a3400",
   "metadata": {},
   "outputs": [],
   "source": [
    "mutable struct Instance\n",
    "    n :: Int64\n",
    "    D\n",
    "    l\n",
    "    function Instance(s)\n",
    "        D = zeros(1,1)\n",
    "        nNodes = 0\n",
    "        l = 0\n",
    "        open(s) do f\n",
    "            line = 1\n",
    "            lineContent = readline(f)\n",
    "            lineSplited = split(lineContent, \" \")\n",
    "            nNodes = parse(Int64, lineSplited[1])\n",
    "            l = parse(Int64, lineSplited[2])\n",
    "            D = zeros(nNodes,nNodes)\n",
    "            while ! eof(f)\n",
    "                lineContent = readline(f)\n",
    "                lineSplited = split(lineContent, \" \")\n",
    "                for col = 1:nNodes\n",
    "                    D[line,col] = parse(Float64, lineSplited[col])\n",
    "                end\n",
    "                \n",
    "                line += 1\n",
    "            end\n",
    "        end\n",
    "        new(nNodes,D,l)\n",
    "    end\n",
    "end"
   ]
  },
  {
   "cell_type": "code",
   "execution_count": 4,
   "id": "799f0dcb",
   "metadata": {},
   "outputs": [
    {
     "data": {
      "text/plain": [
       "Instance(5, [0.0 2.0 … 3.0 1.0; 2.0 0.0 … 1.0 1.0; … ; 3.0 1.0 … 0.0 1.0; 1.0 1.0 … 1.0 0.0], 1)"
      ]
     },
     "execution_count": 4,
     "metadata": {},
     "output_type": "execute_result"
    }
   ],
   "source": [
    "I = Instance(\"instances/test.txt\")"
   ]
  },
  {
   "cell_type": "code",
   "execution_count": 5,
   "id": "fc2a7056",
   "metadata": {},
   "outputs": [
    {
     "data": {
      "text/plain": [
       "5×5 Matrix{VariableRef}:\n",
       " y[1,1]  y[1,2]  y[1,3]  y[1,4]  y[1,5]\n",
       " y[2,1]  y[2,2]  y[2,3]  y[2,4]  y[2,5]\n",
       " y[3,1]  y[3,2]  y[3,3]  y[3,4]  y[3,5]\n",
       " y[4,1]  y[4,2]  y[4,3]  y[4,4]  y[4,5]\n",
       " y[5,1]  y[5,2]  y[5,3]  y[5,4]  y[5,5]"
      ]
     },
     "execution_count": 5,
     "metadata": {},
     "output_type": "execute_result"
    }
   ],
   "source": [
    "# @variable(m, u[1:I.n]) # colocar real positivo # restrição remoção de subciclos\n",
    "@variable(m, x[1:I.n,1:I.n], Bin)\n",
    "@variable(m, y[1:I.n,1:I.n], Int)"
   ]
  },
  {
   "cell_type": "code",
   "execution_count": 8,
   "id": "ae467ff7",
   "metadata": {},
   "outputs": [
    {
     "ename": "LoadError",
     "evalue": "LoadError: At In[8]:6: `@constraint(m, [i = 1:I.n], y[1, i] = sum((x[i, j] * j for j = 1:I.n)))`: No constraint expression was given.\nin expression starting at In[8]:6",
     "output_type": "error",
     "traceback": [
      "LoadError: At In[8]:6: `@constraint(m, [i = 1:I.n], y[1, i] = sum((x[i, j] * j for j = 1:I.n)))`: No constraint expression was given.\nin expression starting at In[8]:6",
      "",
      "Stacktrace:",
      " [1] error(::String, ::String)",
      "   @ Base .\\error.jl:44",
      " [2] _macro_error(macroname::Symbol, args::Tuple{Symbol, Expr, Expr}, source::LineNumberNode, str::String)",
      "   @ JuMP C:\\Users\\gabin\\.julia\\packages\\JuMP\\UqjgA\\src\\macros.jl:1585",
      " [3] (::JuMP.var\"#_error#100\"{Tuple{Symbol, Expr, Expr}, Symbol, LineNumberNode})(str::String)",
      "   @ JuMP C:\\Users\\gabin\\.julia\\packages\\JuMP\\UqjgA\\src\\macros.jl:733",
      " [4] _constraint_macro(args::Tuple{Symbol, Expr, Expr}, macro_name::Symbol, parsefun::typeof(parse_constraint), source::LineNumberNode)",
      "   @ JuMP C:\\Users\\gabin\\.julia\\packages\\JuMP\\UqjgA\\src\\macros.jl:763",
      " [5] var\"@constraint\"(__source__::LineNumberNode, __module__::Module, args::Vararg{Any})",
      "   @ JuMP C:\\Users\\gabin\\.julia\\packages\\JuMP\\UqjgA\\src\\macros.jl:914",
      " [6] eval",
      "   @ .\\boot.jl:368 [inlined]",
      " [7] include_string(mapexpr::typeof(REPL.softscope), mod::Module, code::String, filename::String)",
      "   @ Base .\\loading.jl:1428"
     ]
    }
   ],
   "source": [
    "@constraint(m, [i=1:I.n], sum(x[i,j] for j=1:I.n)==1)\n",
    "@constraint(m, [j=1:I.n], sum(x[i,j] for i=1:I.n)==1)\n",
    "\n",
    "@constraint(m, sum(x[i,j] for i=1:I.n, j=1:I.n)==I.n)\n",
    "\n",
    "@constraint(m, [i=1:I.n], y[1,i] = sum(x[i,j]*j for j=1:I.n)) # for lookahed=1\n",
    "\n",
    "for l=2:I.l\n",
    "    @constraint(m, [i=1:I.n], y[l,i] = y[l-1,y[l-1,i]])\n",
    "end\n",
    "\n",
    "@objective(m, Min, sum(I.D[i,y[i,s]] for s=1:I.l, i=1:I.n))\n",
    "\n",
    "# restrição remoção de subciclos\n",
    "\n",
    "# @objective(m, Min, sum(I.D[pi[i],pi[i+s]]*x[pi[i],pi[i+s]] for s=1:I.l, i=1:I.n))\n",
    "\n",
    "# @objective(m, Min, sum(D[i,j]*x[i,j] for i=1:n, j=1:n))\n",
    "# @constraint(m, Min, sum(D[i,j]*x[i,j] for i=1:n, j=1:n))"
   ]
  },
  {
   "cell_type": "code",
   "execution_count": 11,
   "id": "269da9df",
   "metadata": {},
   "outputs": [
    {
     "data": {
      "text/plain": [
       "2.3346591570662225"
      ]
     },
     "execution_count": 11,
     "metadata": {},
     "output_type": "execute_result"
    }
   ],
   "source": [
    "optimize!(m)\n",
    "objective_value(m)"
   ]
  },
  {
   "cell_type": "code",
   "execution_count": 13,
   "id": "ce6b6b3b",
   "metadata": {},
   "outputs": [
    {
     "name": "stdout",
     "output_type": "stream",
     "text": [
      "1.0 0.0 1.0 1.0 "
     ]
    }
   ],
   "source": [
    "for i=1:n print(value(x[i]), \" \") end"
   ]
  }
 ],
 "metadata": {
  "kernelspec": {
   "display_name": "Julia 1.8.0",
   "language": "julia",
   "name": "julia-1.8"
  },
  "language_info": {
   "file_extension": ".jl",
   "mimetype": "application/julia",
   "name": "julia",
   "version": "1.8.0"
  }
 },
 "nbformat": 4,
 "nbformat_minor": 5
}
