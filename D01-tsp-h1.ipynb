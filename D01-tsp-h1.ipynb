{
 "cells": [
  {
   "cell_type": "code",
   "execution_count": 8,
   "id": "bc905e26",
   "metadata": {},
   "outputs": [],
   "source": [
    "using Luxor\n",
    "using LinearAlgebra: norm"
   ]
  },
  {
   "cell_type": "code",
   "execution_count": 9,
   "id": "a41a3989",
   "metadata": {},
   "outputs": [],
   "source": [
    "mutable struct Instance\n",
    "    n :: Int64\n",
    "    D\n",
    "    l\n",
    "#     c\n",
    "#     function Instance(n)\n",
    "#         D = zeros(n+1,n+1)\n",
    "#         c = rand(2,n)\n",
    "#         for i = 1:n, j = 1:n\n",
    "#             D[i,j]=norm(c[:,i]-c[:,j])\n",
    "#         end\n",
    "#         D[n+1,:]=D[1,:]\n",
    "#         D[:,n+1]=D[:,1]\n",
    "#         new(n,D,c)\n",
    "#     end\n",
    "    function Instance(s)\n",
    "        D = zeros(1,1)\n",
    "#         c = rand(2,n) # not implemented\n",
    "        nNodes = 0\n",
    "        l = 0\n",
    "        open(s) do f\n",
    "            line = 1\n",
    "            lineContent = readline(f)\n",
    "            lineSplited = split(lineContent, \" \")\n",
    "            nNodes = parse(Int64, lineSplited[1])\n",
    "            l = parse(Int64, lineSplited[2])\n",
    "            D = zeros(nNodes,nNodes)\n",
    "            while ! eof(f)\n",
    "                lineContent = readline(f)\n",
    "                lineSplited = split(lineContent, \" \")\n",
    "                for col = 1:nNodes\n",
    "                    D[line,col] = parse(Float64, lineSplited[col])\n",
    "                end\n",
    "                \n",
    "                line += 1\n",
    "            end\n",
    "        end\n",
    "        new(nNodes,D,l) #,c\n",
    "    end\n",
    "end\n",
    "# point(I,i) = Point(I.c[1,i],I.c[2,i])"
   ]
  },
  {
   "cell_type": "code",
   "execution_count": 10,
   "id": "0ef898f2",
   "metadata": {},
   "outputs": [
    {
     "data": {
      "text/plain": [
       "Instance(442, [0.0 100.0 … 557.0 447.0; 100.0 0.0 … 550.0 539.0; … ; 557.0 550.0 … 0.0 896.0; 447.0 539.0 … 896.0 0.0], 50)"
      ]
     },
     "execution_count": 10,
     "metadata": {},
     "output_type": "execute_result"
    }
   ],
   "source": [
    "I = Instance(\"instances/rml1.txt\")"
   ]
  },
  {
   "cell_type": "raw",
   "id": "bbf19e55",
   "metadata": {},
   "source": [
    "function drawInstance(I)\n",
    "    sethue(\"black\")\n",
    "    for i=1:I.n\n",
    "        circle(point(I,i),0.01,:fill)\n",
    "    end\n",
    "end\n",
    "@png begin\n",
    "    translate(-200,-200)\n",
    "    scale(400,400)\n",
    "    drawInstance(I)\n",
    "end 500 500"
   ]
  },
  {
   "cell_type": "code",
   "execution_count": 11,
   "id": "df1b9554",
   "metadata": {},
   "outputs": [],
   "source": [
    "mutable struct Solution\n",
    "    π :: Array{Int64,1} ## solução: uma permutação de cidades\n",
    "    v :: Float64        ## valor da solução: distância total\n",
    "    Solution(s::Solution) = new(copy(s.π),s.v)\n",
    "    Solution(π,v) = new(copy(π),v)\n",
    "end\n",
    "Base.copy(s::Solution) = Solution(s)"
   ]
  },
  {
   "cell_type": "code",
   "execution_count": 16,
   "id": "0d53ba63",
   "metadata": {},
   "outputs": [
    {
     "data": {
      "text/plain": [
       "vmp (generic function with 1 method)"
      ]
     },
     "execution_count": 16,
     "metadata": {},
     "output_type": "execute_result"
    }
   ],
   "source": [
    "function vmp(I::Instance)\n",
    "    s = Solution([1],0.0)\n",
    "    free=trues(I.n)\n",
    "    free[1]=false\n",
    "    for k=2:I.n\n",
    "      f=findall(free)\n",
    "      j=f[findmin(I.D[s.π[end],f])[2]]\n",
    "    #       s.v += I.D[s.π[end],j]\n",
    "      push!(s.π,j)\n",
    "      free[j]=false\n",
    "    end\n",
    "    for lookahead=1:I.l\n",
    "        for i=1:I.n\n",
    "#             println(\"$(s.π[i]) - $(s.π[((i+lookahead-1)%(I.n))+1])\")\n",
    "#             println(\"$(I.D[i,((i+lookahead-1)%(I.n))+1])\")\n",
    "            s.v += I.D[s.π[i],s.π[((i+lookahead-1)%(I.n))+1]]\n",
    "        end\n",
    "    end\n",
    "    push!(s.π,1)\n",
    "    s\n",
    "end"
   ]
  },
  {
   "cell_type": "code",
   "execution_count": 17,
   "id": "a6b4b5ee",
   "metadata": {},
   "outputs": [
    {
     "name": "stdout",
     "output_type": "stream",
     "text": [
      "[1, 2, 3, 4, 5, 6, 7, 8, 9, 10, 11, 12, 13, 14, 15, 16, 17, 18, 19, 20, 21, 22, 23, 24, 25, 26, 27, 28, 29, 30, 31, 32, 376, 377, 33, 65, 64, 63, 62, 61, 60, 59, 58, 57, 56, 55, 54, 53, 52, 51, 50, 49, 48, 47, 46, 45, 44, 43, 42, 41, 40, 39, 38, 37, 36, 35, 34, 66, 67, 68, 69, 70, 71, 72, 73, 74, 75, 76, 77, 78, 79, 80, 81, 82, 83, 84, 85, 86, 87, 378, 88, 89, 90, 91, 92, 93, 94, 95, 379, 96, 380, 97, 98, 383, 384, 113, 125, 135, 148, 160, 171, 184, 199, 210, 220, 226, 411, 410, 414, 237, 265, 420, 268, 416, 264, 263, 236, 262, 261, 260, 259, 258, 257, 256, 255, 254, 253, 252, 251, 250, 415, 249, 248, 247, 246, 245, 244, 243, 242, 241, 240, 235, 228, 406, 401, 186, 173, 162, 150, 137, 127, 386, 115, 104, 441, 102, 103, 114, 126, 136, 149, 161, 172, 185, 400, 405, 227, 234, 238, 239, 266, 269, 273, 276, 279, 281, 282, 428, 342, 341, 346, 347, 348, 433, 349, 350, 351, 352, 343, 353, 354, 355, 434, 356, 357, 358, 435, 359, 360, 361, 344, 362, 363, 364, 365, 366, 367, 345, 368, 369, 370, 371, 372, 373, 374, 375, 338, 337, 427, 336, 335, 334, 307, 333, 332, 331, 306, 305, 304, 303, 302, 301, 300, 299, 298, 297, 296, 295, 294, 293, 292, 291, 290, 289, 288, 287, 286, 285, 284, 283, 280, 426, 440, 308, 309, 310, 311, 312, 313, 314, 315, 316, 317, 318, 319, 320, 321, 322, 323, 324, 429, 325, 326, 327, 328, 329, 330, 431, 430, 278, 417, 418, 232, 224, 215, 203, 191, 398, 178, 166, 155, 142, 130, 119, 108, 439, 381, 382, 109, 120, 131, 143, 156, 167, 180, 192, 193, 204, 216, 225, 233, 408, 409, 404, 217, 205, 194, 181, 168, 157, 145, 132, 122, 110, 121, 385, 391, 144, 388, 390, 394, 395, 179, 190, 202, 402, 201, 189, 177, 165, 154, 141, 129, 118, 107, 106, 105, 117, 128, 139, 153, 163, 176, 188, 200, 213, 222, 230, 229, 221, 211, 403, 212, 175, 187, 399, 396, 174, 151, 389, 387, 152, 392, 138, 116, 393, 140, 164, 397, 214, 223, 231, 425, 421, 424, 340, 339, 277, 274, 271, 267, 270, 407, 99, 100, 111, 123, 133, 146, 158, 169, 182, 197, 196, 195, 206, 207, 208, 218, 219, 209, 198, 183, 170, 159, 147, 134, 124, 112, 436, 101, 413, 412, 419, 422, 438, 423, 272, 275, 437, 432, 442, 1]\n",
      "Vizinho mais próximo: 3.0128831e7.\n"
     ]
    }
   ],
   "source": [
    "s=vmp(I)\n",
    "# println(s.π)\n",
    "println(\"Vizinho mais próximo: $(s.v).\")"
   ]
  },
  {
   "cell_type": "raw",
   "id": "3efc5dc4",
   "metadata": {},
   "source": [
    "function drawSolution(I::Instance,s::Solution)\n",
    "    sethue(\"gray60\")\n",
    "    for i = 1:I.n\n",
    "        line(point(I,s.π[i]),point(I,s.π[i+1]),:stroke)\n",
    "    end\n",
    "end\n",
    "@png begin\n",
    "    translate(-200,-200)\n",
    "    scale(400,400)\n",
    "    drawSolution(I,s)\n",
    "    drawInstance(I)\n",
    "end 500 500"
   ]
  },
  {
   "cell_type": "raw",
   "id": "04d44357",
   "metadata": {},
   "source": [
    "function bl_tca(I::Instance, s₀::Solution)\n",
    "    s = copy(s₀)\n",
    "    i=1\n",
    "    v=0.0\n",
    "    while i<I.n\n",
    "        i=2\n",
    "        while i<I.n\n",
    "            v=s.v-I.D[s.π[i-1],s.π[i]]-I.D[s.π[i+1],s.π[i+2]]+I.D[s.π[i-1],s.π[i+1]]+I.D[s.π[i],s.π[i+2]]\n",
    "            v<s.v && break ## first improvement\n",
    "            i += 1\n",
    "        end\n",
    "        if i<I.n\n",
    "            s.π[i],s.π[i+1] = s.π[i+1],s.π[i]\n",
    "            s.v = v\n",
    "        end\n",
    "    end\n",
    "    s\n",
    "end"
   ]
  },
  {
   "cell_type": "raw",
   "id": "b2b20e5d",
   "metadata": {},
   "source": [
    "s′=bl_tca(I,s)\n",
    "println(\"Depois da busca local que troca cidades adjacentes: $(s′.v).\")"
   ]
  },
  {
   "cell_type": "raw",
   "id": "66726010",
   "metadata": {},
   "source": [
    "@png begin\n",
    "    translate(-200,-200)\n",
    "    scale(400,400)\n",
    "    drawSolution(I,s′)\n",
    "    drawInstance(I)\n",
    "end 500 500"
   ]
  },
  {
   "cell_type": "code",
   "execution_count": 18,
   "id": "496be5db",
   "metadata": {},
   "outputs": [
    {
     "data": {
      "text/plain": [
       "bl_2ex (generic function with 1 method)"
      ]
     },
     "execution_count": 18,
     "metadata": {},
     "output_type": "execute_result"
    }
   ],
   "source": [
    "function bl_2ex(I::Instance,s₀::Solution)\n",
    "    s=copy(s₀)\n",
    "    move=(1,1)\n",
    "    v=0.0\n",
    "    while move!=(0,0)\n",
    "        move=(0,0)\n",
    "        for a=1:I.n, b=(a+2):I.n\n",
    "            a==1 && b==I.n && continue\n",
    "            \n",
    "#             newπ = s.π \n",
    "#             aux = newπ[a+1] #swap\n",
    "#             newπ[a+1] = newπ[b]\n",
    "#             newπ[b] = aux\n",
    "\n",
    "#             v = 0\n",
    "#             for lookahead=1:I.l\n",
    "#                 for i=1:I.n\n",
    "#                     v += I.D[newπ[i],newπ[((i+lookahead-1)%(I.n))+1]]\n",
    "#                 end\n",
    "#             end\n",
    "            \n",
    "#             v=s.v-I.D[s.π[a],s.π[a+1]]-I.D[s.π[b],s.π[b+1]]+I.D[s.π[a],s.π[b]]+I.D[s.π[a+1],s.π[b+1]]\n",
    "            v=s.v - I.l * (I.D[s.π[a],s.π[a+1]] + I.D[s.π[b],s.π[b+1]]) + I.l * (I.D[s.π[a],s.π[b]] + I.D[s.π[a+1],s.π[b+1]])\n",
    "            \n",
    "            if v<s.v\n",
    "                move=(a,b)\n",
    "                break ## first improvement\n",
    "            end\n",
    "        end\n",
    "        if move!=(0,0)\n",
    "            ## reverse segment\n",
    "            move=(move[1]+1,move[2])\n",
    "            while move[1]<move[2]\n",
    "                s.π[move[1]],s.π[move[2]] = s.π[move[2]],s.π[move[1]]\n",
    "                move=(move[1]+1,move[2]-1)\n",
    "            end\n",
    "            s.v=v\n",
    "        end\n",
    "    end\n",
    "    s\n",
    "end"
   ]
  },
  {
   "cell_type": "code",
   "execution_count": 20,
   "id": "d1c718a1",
   "metadata": {},
   "outputs": [
    {
     "name": "stdout",
     "output_type": "stream",
     "text": [
      "Solution([1, 35, 2, 3, 4, 5, 6, 40, 41, 7, 8, 9, 10, 42, 43, 44, 11, 12, 45, 78, 79, 80, 100, 130, 142, 155, 166, 178, 398, 179, 395, 394, 192, 204, 216, 225, 233, 408, 409, 404, 217, 205, 194, 181, 193, 180, 167, 156, 143, 390, 388, 119, 108, 439, 84, 83, 82, 81, 50, 49, 48, 47, 46, 13, 14, 15, 16, 17, 18, 51, 19, 20, 21, 22, 23, 56, 57, 24, 25, 26, 58, 59, 27, 28, 29, 30, 31, 32, 376, 377, 33, 65, 64, 63, 62, 61, 60, 92, 91, 90, 89, 88, 378, 87, 55, 54, 53, 52, 85, 86, 382, 381, 109, 120, 131, 144, 391, 121, 385, 110, 122, 132, 145, 157, 168, 111, 123, 133, 146, 158, 169, 182, 197, 196, 195, 206, 207, 208, 218, 219, 209, 198, 183, 170, 159, 147, 134, 124, 112, 436, 101, 93, 94, 95, 379, 96, 380, 97, 98, 384, 383, 113, 125, 135, 148, 160, 171, 184, 199, 210, 220, 226, 237, 265, 414, 411, 410, 264, 416, 268, 420, 272, 423, 438, 422, 419, 262, 263, 236, 413, 412, 261, 260, 259, 258, 257, 256, 255, 254, 232, 224, 215, 203, 191, 190, 189, 201, 202, 402, 214, 223, 231, 252, 253, 418, 417, 278, 296, 297, 298, 299, 300, 301, 302, 303, 329, 330, 304, 305, 306, 331, 332, 333, 432, 334, 335, 336, 307, 275, 437, 427, 337, 338, 375, 374, 373, 372, 371, 370, 369, 368, 345, 367, 366, 365, 364, 431, 328, 327, 326, 325, 429, 324, 323, 322, 430, 344, 363, 362, 361, 360, 359, 435, 358, 357, 356, 434, 355, 354, 353, 343, 352, 351, 350, 349, 433, 348, 347, 346, 342, 341, 428, 282, 281, 279, 276, 273, 269, 266, 239, 238, 234, 227, 405, 400, 185, 172, 161, 149, 136, 126, 114, 103, 102, 441, 104, 115, 386, 127, 137, 389, 387, 116, 138, 392, 152, 151, 150, 162, 173, 186, 401, 406, 228, 235, 240, 267, 270, 271, 274, 277, 426, 440, 280, 283, 284, 285, 286, 287, 288, 312, 311, 310, 309, 308, 339, 340, 313, 314, 315, 316, 317, 318, 319, 320, 321, 295, 294, 293, 292, 291, 290, 289, 424, 421, 425, 415, 251, 250, 249, 248, 247, 246, 245, 244, 243, 242, 241, 407, 399, 396, 174, 187, 175, 211, 403, 221, 229, 212, 230, 222, 213, 200, 188, 176, 163, 393, 153, 139, 128, 140, 164, 397, 177, 165, 154, 141, 129, 118, 107, 106, 117, 105, 99, 77, 76, 75, 74, 73, 72, 71, 70, 39, 38, 37, 36, 69, 68, 67, 66, 34, 442, 1], 2.9744131e7)\n",
      "Depois da busca local 2-exchange: 2.9744131e7.\n"
     ]
    }
   ],
   "source": [
    "# s′′=bl_2ex(I,s)\n",
    "# println(s′′)\n",
    "# println(\"Depois da busca local 2-exchange: $(s′′.v).\")"
   ]
  },
  {
   "cell_type": "raw",
   "id": "2edc01ab",
   "metadata": {},
   "source": [
    "@png begin\n",
    "    translate(-200,-200)\n",
    "    scale(400,400)\n",
    "    drawSolution(I,s′′)\n",
    "    drawInstance(I)\n",
    "end 500 500"
   ]
  }
 ],
 "metadata": {
  "kernelspec": {
   "display_name": "Julia 1.8.0",
   "language": "julia",
   "name": "julia-1.8"
  },
  "language_info": {
   "file_extension": ".jl",
   "mimetype": "application/julia",
   "name": "julia",
   "version": "1.8.0"
  }
 },
 "nbformat": 4,
 "nbformat_minor": 5
}
